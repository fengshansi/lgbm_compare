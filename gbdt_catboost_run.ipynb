{
 "cells": [
  {
   "cell_type": "code",
   "execution_count": null,
   "metadata": {},
   "outputs": [],
   "source": [
    "import pickle\n",
    "from pprint import pprint\n",
    "from gbdt_model_catboost import (\n",
    "    train_a_2_label_catboostoostClassifier,\n",
    "    test_a_2_label_catboostoostClassifier,\n",
    ")\n",
    "from gbdt_model_lgbm import (\n",
    "    train_a_2_label_lgbmclassifier,\n",
    "    test_a_2_label_lightgbmClassifier,\n",
    "    weighted_f1_score,\n",
    "    marco_f1_score,\n",
    ")\n",
    "\n",
    "\n",
    "\n",
    "\n",
    "with open(\"./my_data.pickle\", \"rb\") as f:\n",
    "    loaded_data = pickle.load(f)\n",
    "\n",
    "\n",
    "train_X = loaded_data[\"train_X\"]\n",
    "train_Y = loaded_data[\"train_Y\"]\n",
    "val_X = loaded_data[\"val_X\"]\n",
    "val_Y = loaded_data[\"val_Y\"]\n",
    "test_X = loaded_data[\"test_X\"]\n",
    "test_Y = loaded_data[\"test_Y\"]\n",
    "cat_colums = loaded_data[\"cat_colums\"]"
   ]
  },
  {
   "cell_type": "code",
   "execution_count": null,
   "metadata": {},
   "outputs": [],
   "source": [
    "\n",
    "select_columns = test_X.columns.tolist()\n",
    "train_X = train_X[select_columns]\n",
    "val_X = val_X[select_columns]\n",
    "test_X = test_X[select_columns]\n",
    "\n",
    " \n",
    "cat_colums = list(set(cat_colums) & set(select_columns))\n",
    "\n"
   ]
  },
  {
   "cell_type": "code",
   "execution_count": null,
   "metadata": {},
   "outputs": [],
   "source": [
    "eval_metric = \"TotalF1:average=Macro\"\n",
    "metric_name = \"macro_f1\"\n",
    "\n",
    "\n",
    "\n",
    "\n",
    "base_params = {\n",
    "    \"iterations\": 1000,\n",
    "    \"eval_metric\": eval_metric,\n",
    "}\n",
    "\n",
    "catboost_model = train_a_2_label_catboostoostClassifier(\n",
    "    train_input=train_X,\n",
    "    train_label=train_Y,\n",
    "    val_input=val_X,\n",
    "    val_label=val_Y,\n",
    "    current_cat_feature=cat_colums,\n",
    ")\n",
    "\n",
    "pred_score_list, pred_label_list, classify_report_dict = (\n",
    "    test_a_2_label_catboostoostClassifier(\n",
    "        bst=catboost_model, test_input=test_X, test_label_list=test_Y.tolist()\n",
    "    )\n",
    ")"
   ]
  },
  {
   "cell_type": "code",
   "execution_count": null,
   "metadata": {},
   "outputs": [],
   "source": [
    "print(catboost_model.get_all_params())"
   ]
  }
 ],
 "metadata": {
  "kernelspec": {
   "display_name": "my_ai",
   "language": "python",
   "name": "python3"
  },
  "language_info": {
   "codemirror_mode": {
    "name": "ipython",
    "version": 3
   },
   "file_extension": ".py",
   "mimetype": "text/x-python",
   "name": "python",
   "nbconvert_exporter": "python",
   "pygments_lexer": "ipython3",
   "version": "3.11.4"
  }
 },
 "nbformat": 4,
 "nbformat_minor": 2
}
